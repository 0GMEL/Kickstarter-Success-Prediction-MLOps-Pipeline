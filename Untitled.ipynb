{
 "cells": [
  {
   "cell_type": "code",
   "execution_count": 11,
   "id": "389cfd08-b755-4b41-9045-4e3398a6091f",
   "metadata": {},
   "outputs": [],
   "source": [
    "import pandas as pd\n",
    "import numpy as np\n",
    "import matplotlib.pyplot as plt\n",
    "from datetime import datetime\n",
    "import re\n",
    "import nltk\n",
    "from nltk.corpus import stopwords\n",
    "from nltk.stem import WordNetLemmatizer\n",
    "import ssl\n",
    "import certifi"
   ]
  },
  {
   "cell_type": "code",
   "execution_count": 15,
   "id": "8f5cc7ec-2c75-4e91-915c-2ba32c7f4b06",
   "metadata": {},
   "outputs": [],
   "source": [
    "ssl._create_default_https_context = ssl._create_unverified_context"
   ]
  },
  {
   "cell_type": "code",
   "execution_count": 16,
   "id": "bd050e9e-ed28-4845-83de-2aba62e82256",
   "metadata": {},
   "outputs": [
    {
     "name": "stderr",
     "output_type": "stream",
     "text": [
      "[nltk_data] Error loading stopwords: <urlopen error [SSL:\n",
      "[nltk_data]     CERTIFICATE_VERIFY_FAILED] certificate verify failed:\n",
      "[nltk_data]     unable to get local issuer certificate (_ssl.c:1000)>\n",
      "[nltk_data] Error loading wordnet: <urlopen error [SSL:\n",
      "[nltk_data]     CERTIFICATE_VERIFY_FAILED] certificate verify failed:\n",
      "[nltk_data]     unable to get local issuer certificate (_ssl.c:1000)>\n",
      "[nltk_data] Error loading vader_lexicon: <urlopen error [SSL:\n",
      "[nltk_data]     CERTIFICATE_VERIFY_FAILED] certificate verify failed:\n",
      "[nltk_data]     unable to get local issuer certificate (_ssl.c:1000)>\n",
      "[nltk_data] Error loading punkt: <urlopen error [SSL:\n",
      "[nltk_data]     CERTIFICATE_VERIFY_FAILED] certificate verify failed:\n",
      "[nltk_data]     unable to get local issuer certificate (_ssl.c:1000)>\n"
     ]
    },
    {
     "data": {
      "text/plain": [
       "False"
      ]
     },
     "execution_count": 16,
     "metadata": {},
     "output_type": "execute_result"
    }
   ],
   "source": [
    "nltk.download('stopwords')\n",
    "nltk.download('wordnet')\n",
    "nltk.download('vader_lexicon')\n",
    "nltk.download('punkt')"
   ]
  },
  {
   "cell_type": "code",
   "execution_count": 2,
   "id": "a517f2fc-8a85-4a1d-af13-effacde7594a",
   "metadata": {},
   "outputs": [
    {
     "data": {
      "text/html": [
       "<div>\n",
       "<style scoped>\n",
       "    .dataframe tbody tr th:only-of-type {\n",
       "        vertical-align: middle;\n",
       "    }\n",
       "\n",
       "    .dataframe tbody tr th {\n",
       "        vertical-align: top;\n",
       "    }\n",
       "\n",
       "    .dataframe thead th {\n",
       "        text-align: right;\n",
       "    }\n",
       "</style>\n",
       "<table border=\"1\" class=\"dataframe\">\n",
       "  <thead>\n",
       "    <tr style=\"text-align: right;\">\n",
       "      <th></th>\n",
       "      <th>ID</th>\n",
       "      <th>name</th>\n",
       "      <th>category</th>\n",
       "      <th>main_category</th>\n",
       "      <th>currency</th>\n",
       "      <th>deadline</th>\n",
       "      <th>goal</th>\n",
       "      <th>launched</th>\n",
       "      <th>pledged</th>\n",
       "      <th>state</th>\n",
       "      <th>backers</th>\n",
       "      <th>country</th>\n",
       "      <th>usd pledged</th>\n",
       "      <th>usd_pledged_real</th>\n",
       "      <th>usd_goal_real</th>\n",
       "    </tr>\n",
       "  </thead>\n",
       "  <tbody>\n",
       "    <tr>\n",
       "      <th>0</th>\n",
       "      <td>1000002330</td>\n",
       "      <td>The Songs of Adelaide &amp; Abullah</td>\n",
       "      <td>Poetry</td>\n",
       "      <td>Publishing</td>\n",
       "      <td>GBP</td>\n",
       "      <td>2015-10-09</td>\n",
       "      <td>1000.0</td>\n",
       "      <td>2015-08-11 12:12:28</td>\n",
       "      <td>0.0</td>\n",
       "      <td>failed</td>\n",
       "      <td>0</td>\n",
       "      <td>GB</td>\n",
       "      <td>0.0</td>\n",
       "      <td>0.0</td>\n",
       "      <td>1533.95</td>\n",
       "    </tr>\n",
       "    <tr>\n",
       "      <th>1</th>\n",
       "      <td>1000003930</td>\n",
       "      <td>Greeting From Earth: ZGAC Arts Capsule For ET</td>\n",
       "      <td>Narrative Film</td>\n",
       "      <td>Film &amp; Video</td>\n",
       "      <td>USD</td>\n",
       "      <td>2017-11-01</td>\n",
       "      <td>30000.0</td>\n",
       "      <td>2017-09-02 04:43:57</td>\n",
       "      <td>2421.0</td>\n",
       "      <td>failed</td>\n",
       "      <td>15</td>\n",
       "      <td>US</td>\n",
       "      <td>100.0</td>\n",
       "      <td>2421.0</td>\n",
       "      <td>30000.00</td>\n",
       "    </tr>\n",
       "    <tr>\n",
       "      <th>2</th>\n",
       "      <td>1000004038</td>\n",
       "      <td>Where is Hank?</td>\n",
       "      <td>Narrative Film</td>\n",
       "      <td>Film &amp; Video</td>\n",
       "      <td>USD</td>\n",
       "      <td>2013-02-26</td>\n",
       "      <td>45000.0</td>\n",
       "      <td>2013-01-12 00:20:50</td>\n",
       "      <td>220.0</td>\n",
       "      <td>failed</td>\n",
       "      <td>3</td>\n",
       "      <td>US</td>\n",
       "      <td>220.0</td>\n",
       "      <td>220.0</td>\n",
       "      <td>45000.00</td>\n",
       "    </tr>\n",
       "    <tr>\n",
       "      <th>3</th>\n",
       "      <td>1000007540</td>\n",
       "      <td>ToshiCapital Rekordz Needs Help to Complete Album</td>\n",
       "      <td>Music</td>\n",
       "      <td>Music</td>\n",
       "      <td>USD</td>\n",
       "      <td>2012-04-16</td>\n",
       "      <td>5000.0</td>\n",
       "      <td>2012-03-17 03:24:11</td>\n",
       "      <td>1.0</td>\n",
       "      <td>failed</td>\n",
       "      <td>1</td>\n",
       "      <td>US</td>\n",
       "      <td>1.0</td>\n",
       "      <td>1.0</td>\n",
       "      <td>5000.00</td>\n",
       "    </tr>\n",
       "    <tr>\n",
       "      <th>4</th>\n",
       "      <td>1000011046</td>\n",
       "      <td>Community Film Project: The Art of Neighborhoo...</td>\n",
       "      <td>Film &amp; Video</td>\n",
       "      <td>Film &amp; Video</td>\n",
       "      <td>USD</td>\n",
       "      <td>2015-08-29</td>\n",
       "      <td>19500.0</td>\n",
       "      <td>2015-07-04 08:35:03</td>\n",
       "      <td>1283.0</td>\n",
       "      <td>canceled</td>\n",
       "      <td>14</td>\n",
       "      <td>US</td>\n",
       "      <td>1283.0</td>\n",
       "      <td>1283.0</td>\n",
       "      <td>19500.00</td>\n",
       "    </tr>\n",
       "  </tbody>\n",
       "</table>\n",
       "</div>"
      ],
      "text/plain": [
       "           ID                                               name  \\\n",
       "0  1000002330                    The Songs of Adelaide & Abullah   \n",
       "1  1000003930      Greeting From Earth: ZGAC Arts Capsule For ET   \n",
       "2  1000004038                                     Where is Hank?   \n",
       "3  1000007540  ToshiCapital Rekordz Needs Help to Complete Album   \n",
       "4  1000011046  Community Film Project: The Art of Neighborhoo...   \n",
       "\n",
       "         category main_category currency   deadline     goal  \\\n",
       "0          Poetry    Publishing      GBP 2015-10-09   1000.0   \n",
       "1  Narrative Film  Film & Video      USD 2017-11-01  30000.0   \n",
       "2  Narrative Film  Film & Video      USD 2013-02-26  45000.0   \n",
       "3           Music         Music      USD 2012-04-16   5000.0   \n",
       "4    Film & Video  Film & Video      USD 2015-08-29  19500.0   \n",
       "\n",
       "             launched  pledged     state  backers country  usd pledged  \\\n",
       "0 2015-08-11 12:12:28      0.0    failed        0      GB          0.0   \n",
       "1 2017-09-02 04:43:57   2421.0    failed       15      US        100.0   \n",
       "2 2013-01-12 00:20:50    220.0    failed        3      US        220.0   \n",
       "3 2012-03-17 03:24:11      1.0    failed        1      US          1.0   \n",
       "4 2015-07-04 08:35:03   1283.0  canceled       14      US       1283.0   \n",
       "\n",
       "   usd_pledged_real  usd_goal_real  \n",
       "0               0.0        1533.95  \n",
       "1            2421.0       30000.00  \n",
       "2             220.0       45000.00  \n",
       "3               1.0        5000.00  \n",
       "4            1283.0       19500.00  "
      ]
     },
     "execution_count": 2,
     "metadata": {},
     "output_type": "execute_result"
    }
   ],
   "source": [
    "df = pd.read_csv('data/ks-projects-201801.csv')\n",
    "df"
   ]
  },
  {
   "cell_type": "code",
   "execution_count": 3,
   "id": "4e605eda-930f-47a0-8d87-6f0f01e46a65",
   "metadata": {},
   "outputs": [
    {
     "data": {
      "text/plain": [
       "(5679915, (378661, 15))"
      ]
     },
     "execution_count": 3,
     "metadata": {},
     "output_type": "execute_result"
    }
   ],
   "source": [
    "df.size, df.shape"
   ]
  },
  {
   "cell_type": "code",
   "execution_count": 4,
   "id": "c2e9995b-7bc0-466f-893d-8f58ffa15945",
   "metadata": {},
   "outputs": [
    {
     "name": "stdout",
     "output_type": "stream",
     "text": [
      "<class 'pandas.core.frame.DataFrame'>\n",
      "RangeIndex: 378661 entries, 0 to 378660\n",
      "Data columns (total 15 columns):\n",
      " #   Column            Non-Null Count   Dtype         \n",
      "---  ------            --------------   -----         \n",
      " 0   ID                378661 non-null  int64         \n",
      " 1   name              378657 non-null  object        \n",
      " 2   category          378661 non-null  object        \n",
      " 3   main_category     378661 non-null  object        \n",
      " 4   currency          378661 non-null  object        \n",
      " 5   deadline          378661 non-null  datetime64[ns]\n",
      " 6   goal              378661 non-null  float64       \n",
      " 7   launched          378661 non-null  datetime64[ns]\n",
      " 8   pledged           378661 non-null  float64       \n",
      " 9   state             378661 non-null  object        \n",
      " 10  backers           378661 non-null  int64         \n",
      " 11  country           378661 non-null  object        \n",
      " 12  usd pledged       374864 non-null  float64       \n",
      " 13  usd_pledged_real  378661 non-null  float64       \n",
      " 14  usd_goal_real     378661 non-null  float64       \n",
      "dtypes: datetime64[ns](2), float64(5), int64(2), object(6)\n",
      "memory usage: 43.3+ MB\n"
     ]
    }
   ],
   "source": [
    "df.info()"
   ]
  },
  {
   "cell_type": "code",
   "execution_count": 5,
   "id": "49d2b970-75e8-4f97-80a0-8e8226c4dabf",
   "metadata": {},
   "outputs": [
    {
     "data": {
      "text/html": [
       "<div>\n",
       "<style scoped>\n",
       "    .dataframe tbody tr th:only-of-type {\n",
       "        vertical-align: middle;\n",
       "    }\n",
       "\n",
       "    .dataframe tbody tr th {\n",
       "        vertical-align: top;\n",
       "    }\n",
       "\n",
       "    .dataframe thead th {\n",
       "        text-align: right;\n",
       "    }\n",
       "</style>\n",
       "<table border=\"1\" class=\"dataframe\">\n",
       "  <thead>\n",
       "    <tr style=\"text-align: right;\">\n",
       "      <th></th>\n",
       "      <th>ID</th>\n",
       "      <th>deadline</th>\n",
       "      <th>goal</th>\n",
       "      <th>launched</th>\n",
       "      <th>pledged</th>\n",
       "      <th>backers</th>\n",
       "      <th>usd pledged</th>\n",
       "      <th>usd_pledged_real</th>\n",
       "      <th>usd_goal_real</th>\n",
       "    </tr>\n",
       "  </thead>\n",
       "  <tbody>\n",
       "    <tr>\n",
       "      <th>count</th>\n",
       "      <td>3.786610e+05</td>\n",
       "      <td>378661</td>\n",
       "      <td>3.786610e+05</td>\n",
       "      <td>378661</td>\n",
       "      <td>3.786610e+05</td>\n",
       "      <td>378661.000000</td>\n",
       "      <td>3.748640e+05</td>\n",
       "      <td>3.786610e+05</td>\n",
       "      <td>3.786610e+05</td>\n",
       "    </tr>\n",
       "    <tr>\n",
       "      <th>mean</th>\n",
       "      <td>1.074731e+09</td>\n",
       "      <td>2014-11-01 16:04:27.950488832</td>\n",
       "      <td>4.908079e+04</td>\n",
       "      <td>2014-09-28 18:06:17.416520448</td>\n",
       "      <td>9.682979e+03</td>\n",
       "      <td>105.617476</td>\n",
       "      <td>7.036729e+03</td>\n",
       "      <td>9.058924e+03</td>\n",
       "      <td>4.545440e+04</td>\n",
       "    </tr>\n",
       "    <tr>\n",
       "      <th>min</th>\n",
       "      <td>5.971000e+03</td>\n",
       "      <td>2009-05-03 00:00:00</td>\n",
       "      <td>1.000000e-02</td>\n",
       "      <td>1970-01-01 01:00:00</td>\n",
       "      <td>0.000000e+00</td>\n",
       "      <td>0.000000</td>\n",
       "      <td>0.000000e+00</td>\n",
       "      <td>0.000000e+00</td>\n",
       "      <td>1.000000e-02</td>\n",
       "    </tr>\n",
       "    <tr>\n",
       "      <th>25%</th>\n",
       "      <td>5.382635e+08</td>\n",
       "      <td>2013-06-08 00:00:00</td>\n",
       "      <td>2.000000e+03</td>\n",
       "      <td>2013-05-07 22:14:27</td>\n",
       "      <td>3.000000e+01</td>\n",
       "      <td>2.000000</td>\n",
       "      <td>1.698000e+01</td>\n",
       "      <td>3.100000e+01</td>\n",
       "      <td>2.000000e+03</td>\n",
       "    </tr>\n",
       "    <tr>\n",
       "      <th>50%</th>\n",
       "      <td>1.075276e+09</td>\n",
       "      <td>2015-01-14 00:00:00</td>\n",
       "      <td>5.200000e+03</td>\n",
       "      <td>2014-12-10 03:23:41</td>\n",
       "      <td>6.200000e+02</td>\n",
       "      <td>12.000000</td>\n",
       "      <td>3.947200e+02</td>\n",
       "      <td>6.243300e+02</td>\n",
       "      <td>5.500000e+03</td>\n",
       "    </tr>\n",
       "    <tr>\n",
       "      <th>75%</th>\n",
       "      <td>1.610149e+09</td>\n",
       "      <td>2016-04-28 00:00:00</td>\n",
       "      <td>1.600000e+04</td>\n",
       "      <td>2016-03-24 10:21:09</td>\n",
       "      <td>4.076000e+03</td>\n",
       "      <td>56.000000</td>\n",
       "      <td>3.034090e+03</td>\n",
       "      <td>4.050000e+03</td>\n",
       "      <td>1.550000e+04</td>\n",
       "    </tr>\n",
       "    <tr>\n",
       "      <th>max</th>\n",
       "      <td>2.147476e+09</td>\n",
       "      <td>2018-03-03 00:00:00</td>\n",
       "      <td>1.000000e+08</td>\n",
       "      <td>2018-01-02 15:02:31</td>\n",
       "      <td>2.033899e+07</td>\n",
       "      <td>219382.000000</td>\n",
       "      <td>2.033899e+07</td>\n",
       "      <td>2.033899e+07</td>\n",
       "      <td>1.663614e+08</td>\n",
       "    </tr>\n",
       "    <tr>\n",
       "      <th>std</th>\n",
       "      <td>6.190862e+08</td>\n",
       "      <td>NaN</td>\n",
       "      <td>1.183391e+06</td>\n",
       "      <td>NaN</td>\n",
       "      <td>9.563601e+04</td>\n",
       "      <td>907.185035</td>\n",
       "      <td>7.863975e+04</td>\n",
       "      <td>9.097334e+04</td>\n",
       "      <td>1.152950e+06</td>\n",
       "    </tr>\n",
       "  </tbody>\n",
       "</table>\n",
       "</div>"
      ],
      "text/plain": [
       "                 ID                       deadline          goal  \\\n",
       "count  3.786610e+05                         378661  3.786610e+05   \n",
       "mean   1.074731e+09  2014-11-01 16:04:27.950488832  4.908079e+04   \n",
       "min    5.971000e+03            2009-05-03 00:00:00  1.000000e-02   \n",
       "25%    5.382635e+08            2013-06-08 00:00:00  2.000000e+03   \n",
       "50%    1.075276e+09            2015-01-14 00:00:00  5.200000e+03   \n",
       "75%    1.610149e+09            2016-04-28 00:00:00  1.600000e+04   \n",
       "max    2.147476e+09            2018-03-03 00:00:00  1.000000e+08   \n",
       "std    6.190862e+08                            NaN  1.183391e+06   \n",
       "\n",
       "                            launched       pledged        backers  \\\n",
       "count                         378661  3.786610e+05  378661.000000   \n",
       "mean   2014-09-28 18:06:17.416520448  9.682979e+03     105.617476   \n",
       "min              1970-01-01 01:00:00  0.000000e+00       0.000000   \n",
       "25%              2013-05-07 22:14:27  3.000000e+01       2.000000   \n",
       "50%              2014-12-10 03:23:41  6.200000e+02      12.000000   \n",
       "75%              2016-03-24 10:21:09  4.076000e+03      56.000000   \n",
       "max              2018-01-02 15:02:31  2.033899e+07  219382.000000   \n",
       "std                              NaN  9.563601e+04     907.185035   \n",
       "\n",
       "        usd pledged  usd_pledged_real  usd_goal_real  \n",
       "count  3.748640e+05      3.786610e+05   3.786610e+05  \n",
       "mean   7.036729e+03      9.058924e+03   4.545440e+04  \n",
       "min    0.000000e+00      0.000000e+00   1.000000e-02  \n",
       "25%    1.698000e+01      3.100000e+01   2.000000e+03  \n",
       "50%    3.947200e+02      6.243300e+02   5.500000e+03  \n",
       "75%    3.034090e+03      4.050000e+03   1.550000e+04  \n",
       "max    2.033899e+07      2.033899e+07   1.663614e+08  \n",
       "std    7.863975e+04      9.097334e+04   1.152950e+06  "
      ]
     },
     "execution_count": 5,
     "metadata": {},
     "output_type": "execute_result"
    }
   ],
   "source": [
    "df.describe()"
   ]
  },
  {
   "cell_type": "code",
   "execution_count": 6,
   "id": "a47a8fbd-cf5c-4b11-b21f-938004e5600e",
   "metadata": {},
   "outputs": [
    {
     "data": {
      "text/plain": [
       "state\n",
       "failed        0.522153\n",
       "successful    0.353762\n",
       "canceled      0.102411\n",
       "undefined     0.009407\n",
       "live          0.007392\n",
       "suspended     0.004875\n",
       "Name: proportion, dtype: float64"
      ]
     },
     "execution_count": 6,
     "metadata": {},
     "output_type": "execute_result"
    }
   ],
   "source": [
    "status_c = df['state'].value_counts(normalize = True)\n",
    "status_c"
   ]
  },
  {
   "cell_type": "code",
   "execution_count": 7,
   "id": "09718e52-4fa7-4c30-a1e8-135050e5261f",
   "metadata": {},
   "outputs": [
    {
     "data": {
      "image/png": "[encoded data removed]",
      "text/plain": [
       "<Figure size 1000x500 with 1 Axes>"
      ]
     },
     "metadata": {},
     "output_type": "display_data"
    }
   ],
   "source": [
    "plt.figure(figsize = (10, 5))\n",
    "status_c.plot(kind = 'bar')\n",
    "plt.title('Распределение статусов проектов')\n",
    "plt.xlabel('Статус')\n",
    "plt.ylabel('Количество')\n",
    "plt.grid(True)\n",
    "plt.show()"
   ]
  },
  {
   "cell_type": "code",
   "execution_count": 8,
   "id": "1536588a-a0af-48b8-a530-d218c7379fc6",
   "metadata": {},
   "outputs": [
    {
     "data": {
      "text/plain": [
       "np.float64(0.4038772895153388)"
      ]
     },
     "execution_count": 8,
     "metadata": {},
     "output_type": "execute_result"
    }
   ],
   "source": [
    "df = df[df['state'].isin(['failed', 'successful'])]\n",
    "df['success'] = (df['state'] == 'successful').astype(int)\n",
    "suc_rate = df['success'].mean()\n",
    "suc_rate"
   ]
  },
  {
   "cell_type": "code",
   "execution_count": 9,
   "id": "d807eb57-7dad-4cc9-970d-bd7edef56780",
   "metadata": {},
   "outputs": [],
   "source": [
    "cols_to_drop = ['ID', 'name', 'pledged', 'usd pledged', 'state', 'backers'] # тут почти все удаляется по причине того, что информация известна после \"опубликовки\"\n",
    "df = df.drop(columns = cols_to_drop)"
   ]
  },
  {
   "cell_type": "code",
   "execution_count": 10,
   "id": "08699b11-19f6-4271-b557-bbe33cbecdd1",
   "metadata": {},
   "outputs": [
    {
     "name": "stdout",
     "output_type": "stream",
     "text": [
      "<class 'pandas.core.frame.DataFrame'>\n",
      "Index: 331675 entries, 0 to 378660\n",
      "Data columns (total 10 columns):\n",
      " #   Column            Non-Null Count   Dtype         \n",
      "---  ------            --------------   -----         \n",
      " 0   category          331675 non-null  object        \n",
      " 1   main_category     331675 non-null  object        \n",
      " 2   currency          331675 non-null  object        \n",
      " 3   deadline          331675 non-null  datetime64[ns]\n",
      " 4   goal              331675 non-null  float64       \n",
      " 5   launched          331675 non-null  datetime64[ns]\n",
      " 6   country           331675 non-null  object        \n",
      " 7   usd_pledged_real  331675 non-null  float64       \n",
      " 8   usd_goal_real     331675 non-null  float64       \n",
      " 9   success           331675 non-null  int64         \n",
      "dtypes: datetime64[ns](2), float64(3), int64(1), object(4)\n",
      "memory usage: 27.8+ MB\n"
     ]
    }
   ],
   "source": [
    "df.info()"
   ]
  },
  {
   "cell_type": "code",
   "execution_count": 11,
   "id": "a414a949-6298-4639-be1f-f1778ac477cf",
   "metadata": {},
   "outputs": [
    {
     "name": "stdout",
     "output_type": "stream",
     "text": [
      "category 0\n",
      "main_category 0\n",
      "currency 0\n",
      "deadline 0\n",
      "goal 0\n",
      "launched 0\n",
      "country 0\n",
      "usd_pledged_real 0\n",
      "usd_goal_real 0\n",
      "success 0\n"
     ]
    }
   ],
   "source": [
    "for i in df.columns:\n",
    "    print(i, df[i].isna().sum())"
   ]
  },
  {
   "cell_type": "code",
   "execution_count": 12,
   "id": "4d41a233-4738-4b2a-876f-df94a3180a6c",
   "metadata": {},
   "outputs": [],
   "source": [
    "df['launch_year'] = df['launched'].dt.year\n",
    "df['launch_month'] = df['launched'].dt.month\n",
    "df['launch_day'] = df['launched'].dt.day\n",
    "df['launch_dayofweek'] = df['launched'].dt.dayofweek\n",
    "df['launch_hour'] = df['launched'].dt.hour"
   ]
  },
  {
   "cell_type": "code",
   "execution_count": 14,
   "id": "102f779d-7614-4a7e-a17b-c59a276b0b3f",
   "metadata": {},
   "outputs": [],
   "source": [
    "df['duration_days'] = (df['deadline'] - df['launched']).dt.days\n",
    "df['log_real'] = np.log1p(df['usd_goal_real'])"
   ]
  },
  {
   "cell_type": "code",
   "execution_count": 15,
   "id": "37d75b4b-3cda-4838-8dbb-60c87be4e733",
   "metadata": {},
   "outputs": [],
   "source": [
    "df = df.drop(columns = ['launched', 'deadline'])"
   ]
  },
  {
   "cell_type": "code",
   "execution_count": 16,
   "id": "9940ccf5-41cb-4d25-8608-04a7c370b24d",
   "metadata": {},
   "outputs": [
    {
     "data": {
      "text/html": [
       "<div>\n",
       "<style scoped>\n",
       "    .dataframe tbody tr th:only-of-type {\n",
       "        vertical-align: middle;\n",
       "    }\n",
       "\n",
       "    .dataframe tbody tr th {\n",
       "        vertical-align: top;\n",
       "    }\n",
       "\n",
       "    .dataframe thead th {\n",
       "        text-align: right;\n",
       "    }\n",
       "</style>\n",
       "<table border=\"1\" class=\"dataframe\">\n",
       "  <thead>\n",
       "    <tr style=\"text-align: right;\">\n",
       "      <th></th>\n",
       "      <th>category</th>\n",
       "      <th>main_category</th>\n",
       "      <th>currency</th>\n",
       "      <th>goal</th>\n",
       "      <th>country</th>\n",
       "      <th>usd_pledged_real</th>\n",
       "      <th>usd_goal_real</th>\n",
       "      <th>success</th>\n",
       "      <th>launch_year</th>\n",
       "      <th>launch_month</th>\n",
       "      <th>launch_day</th>\n",
       "      <th>launch_dayofweek</th>\n",
       "      <th>launch_hour</th>\n",
       "      <th>duration_days</th>\n",
       "      <th>log_real</th>\n",
       "    </tr>\n",
       "  </thead>\n",
       "  <tbody>\n",
       "    <tr>\n",
       "      <th>0</th>\n",
       "      <td>Poetry</td>\n",
       "      <td>Publishing</td>\n",
       "      <td>GBP</td>\n",
       "      <td>1000.0</td>\n",
       "      <td>GB</td>\n",
       "      <td>0.0</td>\n",
       "      <td>1533.95</td>\n",
       "      <td>0</td>\n",
       "      <td>2015</td>\n",
       "      <td>8</td>\n",
       "      <td>11</td>\n",
       "      <td>1</td>\n",
       "      <td>12</td>\n",
       "      <td>58</td>\n",
       "      <td>7.336253</td>\n",
       "    </tr>\n",
       "    <tr>\n",
       "      <th>1</th>\n",
       "      <td>Narrative Film</td>\n",
       "      <td>Film &amp; Video</td>\n",
       "      <td>USD</td>\n",
       "      <td>30000.0</td>\n",
       "      <td>US</td>\n",
       "      <td>2421.0</td>\n",
       "      <td>30000.00</td>\n",
       "      <td>0</td>\n",
       "      <td>2017</td>\n",
       "      <td>9</td>\n",
       "      <td>2</td>\n",
       "      <td>5</td>\n",
       "      <td>4</td>\n",
       "      <td>59</td>\n",
       "      <td>10.308986</td>\n",
       "    </tr>\n",
       "    <tr>\n",
       "      <th>2</th>\n",
       "      <td>Narrative Film</td>\n",
       "      <td>Film &amp; Video</td>\n",
       "      <td>USD</td>\n",
       "      <td>45000.0</td>\n",
       "      <td>US</td>\n",
       "      <td>220.0</td>\n",
       "      <td>45000.00</td>\n",
       "      <td>0</td>\n",
       "      <td>2013</td>\n",
       "      <td>1</td>\n",
       "      <td>12</td>\n",
       "      <td>5</td>\n",
       "      <td>0</td>\n",
       "      <td>44</td>\n",
       "      <td>10.714440</td>\n",
       "    </tr>\n",
       "    <tr>\n",
       "      <th>3</th>\n",
       "      <td>Music</td>\n",
       "      <td>Music</td>\n",
       "      <td>USD</td>\n",
       "      <td>5000.0</td>\n",
       "      <td>US</td>\n",
       "      <td>1.0</td>\n",
       "      <td>5000.00</td>\n",
       "      <td>0</td>\n",
       "      <td>2012</td>\n",
       "      <td>3</td>\n",
       "      <td>17</td>\n",
       "      <td>5</td>\n",
       "      <td>3</td>\n",
       "      <td>29</td>\n",
       "      <td>8.517393</td>\n",
       "    </tr>\n",
       "    <tr>\n",
       "      <th>5</th>\n",
       "      <td>Restaurants</td>\n",
       "      <td>Food</td>\n",
       "      <td>USD</td>\n",
       "      <td>50000.0</td>\n",
       "      <td>US</td>\n",
       "      <td>52375.0</td>\n",
       "      <td>50000.00</td>\n",
       "      <td>1</td>\n",
       "      <td>2016</td>\n",
       "      <td>2</td>\n",
       "      <td>26</td>\n",
       "      <td>4</td>\n",
       "      <td>13</td>\n",
       "      <td>34</td>\n",
       "      <td>10.819798</td>\n",
       "    </tr>\n",
       "  </tbody>\n",
       "</table>\n",
       "</div>"
      ],
      "text/plain": [
       "         category main_category currency     goal country  usd_pledged_real  \\\n",
       "0          Poetry    Publishing      GBP   1000.0      GB               0.0   \n",
       "1  Narrative Film  Film & Video      USD  30000.0      US            2421.0   \n",
       "2  Narrative Film  Film & Video      USD  45000.0      US             220.0   \n",
       "3           Music         Music      USD   5000.0      US               1.0   \n",
       "5     Restaurants          Food      USD  50000.0      US           52375.0   \n",
       "\n",
       "   usd_goal_real  success  launch_year  launch_month  launch_day  \\\n",
       "0        1533.95        0         2015             8          11   \n",
       "1       30000.00        0         2017             9           2   \n",
       "2       45000.00        0         2013             1          12   \n",
       "3        5000.00        0         2012             3          17   \n",
       "5       50000.00        1         2016             2          26   \n",
       "\n",
       "   launch_dayofweek  launch_hour  duration_days   log_real  \n",
       "0                 1           12             58   7.336253  \n",
       "1                 5            4             59  10.308986  \n",
       "2                 5            0             44  10.714440  \n",
       "3                 5            3             29   8.517393  \n",
       "5                 4           13             34  10.819798  "
      ]
     },
     "execution_count": 16,
     "metadata": {},
     "output_type": "execute_result"
    }
   ],
   "source": [
    "df.head()"
   ]
  },
  {
   "cell_type": "code",
   "execution_count": 17,
   "id": "886c968e-d007-4bf0-b42c-9b88b49ae082",
   "metadata": {},
   "outputs": [
    {
     "name": "stdout",
     "output_type": "stream",
     "text": [
      "<class 'pandas.core.frame.DataFrame'>\n",
      "Index: 331675 entries, 0 to 378660\n",
      "Data columns (total 15 columns):\n",
      " #   Column            Non-Null Count   Dtype  \n",
      "---  ------            --------------   -----  \n",
      " 0   category          331675 non-null  object \n",
      " 1   main_category     331675 non-null  object \n",
      " 2   currency          331675 non-null  object \n",
      " 3   goal              331675 non-null  float64\n",
      " 4   country           331675 non-null  object \n",
      " 5   usd_pledged_real  331675 non-null  float64\n",
      " 6   usd_goal_real     331675 non-null  float64\n",
      " 7   success           331675 non-null  int64  \n",
      " 8   launch_year       331675 non-null  int32  \n",
      " 9   launch_month      331675 non-null  int32  \n",
      " 10  launch_day        331675 non-null  int32  \n",
      " 11  launch_dayofweek  331675 non-null  int32  \n",
      " 12  launch_hour       331675 non-null  int32  \n",
      " 13  duration_days     331675 non-null  int64  \n",
      " 14  log_real          331675 non-null  float64\n",
      "dtypes: float64(4), int32(5), int64(2), object(4)\n",
      "memory usage: 34.2+ MB\n"
     ]
    }
   ],
   "source": [
    "df.info()"
   ]
  },
  {
   "cell_type": "code",
   "execution_count": 19,
   "id": "a49d2b37-d53f-48b6-b118-16f8ad3ff03e",
   "metadata": {},
   "outputs": [
    {
     "data": {
      "text/plain": [
       "(array(['Poetry', 'Narrative Film', 'Music', 'Restaurants', 'Food',\n",
       "        'Drinks', 'Nonfiction', 'Indie Rock', 'Crafts', 'Games',\n",
       "        'Tabletop Games', 'Design', 'Comic Books', 'Art Books', 'Fashion',\n",
       "        'Childrenswear', 'Theater', 'Comics', 'DIY', 'Webseries',\n",
       "        'Animation', 'Food Trucks', 'Product Design', 'Public Art',\n",
       "        'Documentary', 'Illustration', 'Photography', 'Pop', 'People',\n",
       "        'Art', 'Family', 'Fiction', 'Film & Video', 'Accessories', 'Rock',\n",
       "        'Hardware', 'Software', 'Weaving', 'Web', 'Jazz', 'Ready-to-wear',\n",
       "        'Festivals', 'Video Games', 'Anthologies', 'Publishing', 'Shorts',\n",
       "        'Gadgets', 'Electronic Music', 'Radio & Podcasts', 'Cookbooks',\n",
       "        'Apparel', 'Metal', 'Comedy', 'Hip-Hop', 'Periodicals', 'Dance',\n",
       "        'Technology', 'Painting', 'World Music', 'Photobooks', 'Drama',\n",
       "        'Architecture', 'Young Adult', 'Latin', 'Mobile Games', 'Flight',\n",
       "        'Fine Art', 'Action', 'Playing Cards', 'Makerspaces', 'Punk',\n",
       "        \"Children's Books\", 'Apps', 'Audio', 'Performance Art', 'Ceramics',\n",
       "        'Vegan', 'Graphic Novels', 'Fabrication Tools', 'Performances',\n",
       "        'Sculpture', 'Sound', 'Stationery', 'Print', \"Farmer's Markets\",\n",
       "        'Thrillers', 'Events', 'Classical Music', 'Graphic Design',\n",
       "        'Spaces', 'Country & Folk', 'Wearables', 'Journalism',\n",
       "        'Mixed Media', 'Movie Theaters', 'Animals', 'Digital Art',\n",
       "        'Knitting', 'Installations', 'Community Gardens',\n",
       "        'DIY Electronics', 'Embroidery', 'Camera Equipment', 'Jewelry',\n",
       "        'Farms', 'Conceptual Art', 'Fantasy', 'Webcomics', 'Horror',\n",
       "        'Experimental', 'Science Fiction', 'Puzzles', 'R&B',\n",
       "        'Music Videos', 'Video', 'Plays', 'Blues', 'Bacon', 'Faith',\n",
       "        'Live Games', 'Small Batch', 'Woodworking', 'Places', 'Footwear',\n",
       "        '3D Printing', 'Zines', 'Musical', 'Workshops', 'Photo',\n",
       "        'Immersive', 'Letterpress', 'Academic', 'Candles', 'Television',\n",
       "        'Space Exploration', 'Gaming Hardware', 'Nature', 'Robots',\n",
       "        'Typography', 'Translations', 'Calendars', 'Textiles', 'Pottery',\n",
       "        'Interactive Design', 'Video Art', 'Glass', 'Pet Fashion',\n",
       "        'Crochet', 'Printing', 'Romance', 'Civic Design', 'Kids',\n",
       "        'Literary Journals', 'Couture', 'Taxidermy', 'Quilts', 'Chiptune',\n",
       "        'Residencies', 'Literary Spaces'], dtype=object),\n",
       " array(['Publishing', 'Film & Video', 'Music', 'Food', 'Crafts', 'Games',\n",
       "        'Design', 'Comics', 'Fashion', 'Theater', 'Art', 'Photography',\n",
       "        'Technology', 'Dance', 'Journalism'], dtype=object),\n",
       " array(['GBP', 'USD', 'CAD', 'AUD', 'NOK', 'EUR', 'MXN', 'SEK', 'NZD',\n",
       "        'CHF', 'DKK', 'HKD', 'SGD', 'JPY'], dtype=object),\n",
       " array(['GB', 'US', 'CA', 'AU', 'NO', 'IT', 'DE', 'IE', 'MX', 'ES', 'SE',\n",
       "        'FR', 'NZ', 'CH', 'AT', 'BE', 'DK', 'HK', 'NL', 'LU', 'SG', 'N,0\"',\n",
       "        'JP'], dtype=object))"
      ]
     },
     "execution_count": 19,
     "metadata": {},
     "output_type": "execute_result"
    }
   ],
   "source": [
    "df['category'].unique(), df['main_category'].unique(), df['currency'].unique(), df['country'].unique()"
   ]
  },
  {
   "cell_type": "code",
   "execution_count": null,
   "id": "9af3088c-7303-45c5-9ba2-6ed02265dcb0",
   "metadata": {},
   "outputs": [],
   "source": []
  }
 ],
 "metadata": {
  "kernelspec": {
   "display_name": "Python 3 (ipykernel)",
   "language": "python",
   "name": "python3"
  },
  "language_info": {
   "codemirror_mode": {
    "name": "ipython",
    "version": 3
   },
   "file_extension": ".py",
   "mimetype": "text/x-python",
   "name": "python",
   "nbconvert_exporter": "python",
   "pygments_lexer": "ipython3",
   "version": "3.12.3"
  }
 },
 "nbformat": 4,
 "nbformat_minor": 5
}
